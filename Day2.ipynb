{
 "cells": [
  {
   "cell_type": "code",
   "execution_count": 2,
   "id": "4daef1d6",
   "metadata": {},
   "outputs": [
    {
     "name": "stdout",
     "output_type": "stream",
     "text": [
      "enter the number45\n",
      "45\n",
      "<class 'int'>\n"
     ]
    }
   ],
   "source": [
    "a = int(input('enter the number'))\n",
    "print('{}'.format(a))\n",
    "print(type(a))"
   ]
  },
  {
   "cell_type": "code",
   "execution_count": 4,
   "id": "02a6df88",
   "metadata": {},
   "outputs": [
    {
     "name": "stdout",
     "output_type": "stream",
     "text": [
      "a+b =  23\n",
      "a-b =  17\n",
      "a*b =  60\n",
      "a/b =  6.666666666666667\n",
      "a%b =  2\n",
      "a//b =  6\n",
      "a**b =  8000\n"
     ]
    }
   ],
   "source": [
    "a = 20\n",
    "\n",
    "b = 3\n",
    "\n",
    "print('a+b = ', a+b)\n",
    "print('a-b = ', a-b)\n",
    "print('a*b = ', a*b)\n",
    "print('a/b = ', a/b)\n",
    "print('a%b = ', a%b)\n",
    "print('a//b = ', a//b)\n",
    "print('a**b = ', a**b)\n",
    "\n"
   ]
  },
  {
   "cell_type": "code",
   "execution_count": 6,
   "id": "9635703e",
   "metadata": {},
   "outputs": [
    {
     "name": "stdout",
     "output_type": "stream",
     "text": [
      "a<b =  False\n",
      "a<=b =  False\n",
      "a>b =  True\n",
      "a>=b =  True\n",
      "a==b =  False\n",
      "a!=b =  True\n"
     ]
    }
   ],
   "source": [
    "a = 10\n",
    "\n",
    "b = 6\n",
    "\n",
    "print('a<b = ', a<b)\n",
    "print('a<=b = ', a<=b)\n",
    "print('a>b = ', a>b)\n",
    "print('a>=b = ', a>=b)\n",
    "print('a==b = ', a==b)\n",
    "print('a!=b = ', a!=b)"
   ]
  },
  {
   "cell_type": "code",
   "execution_count": 7,
   "id": "03133211",
   "metadata": {},
   "outputs": [
    {
     "name": "stdout",
     "output_type": "stream",
     "text": [
      "False\n",
      "True\n",
      "True\n"
     ]
    }
   ],
   "source": [
    "print (5 < 6 and 6 < 6)\n",
    "print (5 < 6 or  6 < 6)\n",
    "print (not(5 < 6 and 6 < 6))"
   ]
  },
  {
   "cell_type": "code",
   "execution_count": 8,
   "id": "c897dcf3",
   "metadata": {},
   "outputs": [
    {
     "name": "stdout",
     "output_type": "stream",
     "text": [
      "0\n",
      "15\n",
      "15\n",
      "-11\n"
     ]
    }
   ],
   "source": [
    "print (5 & 10)\n",
    "print (5 | 10)\n",
    "print (5 ^ 10)\n",
    "print (~10)"
   ]
  },
  {
   "cell_type": "code",
   "execution_count": 9,
   "id": "b581d3cb",
   "metadata": {},
   "outputs": [
    {
     "name": "stdout",
     "output_type": "stream",
     "text": [
      "20\n",
      "5\n"
     ]
    }
   ],
   "source": [
    "print (10 << 1)\n",
    "print (10 >> 1)"
   ]
  },
  {
   "cell_type": "code",
   "execution_count": 10,
   "id": "4feb1076",
   "metadata": {},
   "outputs": [
    {
     "name": "stdout",
     "output_type": "stream",
     "text": [
      "20\n"
     ]
    }
   ],
   "source": [
    "x = 10\n",
    "x += 10\n",
    "print(x)"
   ]
  },
  {
   "cell_type": "code",
   "execution_count": 11,
   "id": "2a0bc2ea",
   "metadata": {},
   "outputs": [
    {
     "name": "stdout",
     "output_type": "stream",
     "text": [
      "5 6\n"
     ]
    }
   ],
   "source": [
    "x = 5 if ( 5 < 6 ) else 6\n",
    "y = 5 if ( 5 > 6 ) else 6\n",
    "print(x,y)"
   ]
  },
  {
   "cell_type": "code",
   "execution_count": 12,
   "id": "99ba55b4",
   "metadata": {},
   "outputs": [
    {
     "name": "stdout",
     "output_type": "stream",
     "text": [
      "3,2\n"
     ]
    }
   ],
   "source": [
    "a = 2\n",
    "b = 3\n",
    "print ('{1},{0}'.format(a,b))"
   ]
  },
  {
   "cell_type": "code",
   "execution_count": 13,
   "id": "1d8ca8a8",
   "metadata": {},
   "outputs": [
    {
     "name": "stdout",
     "output_type": "stream",
     "text": [
      "15\n"
     ]
    }
   ],
   "source": [
    "print (10 ^ 5)"
   ]
  },
  {
   "cell_type": "code",
   "execution_count": 18,
   "id": "2aac420a",
   "metadata": {},
   "outputs": [
    {
     "name": "stdout",
     "output_type": "stream",
     "text": [
      "1\n"
     ]
    }
   ],
   "source": [
    "print (1 ^ 1 ^ 2 ^ 3 )"
   ]
  },
  {
   "cell_type": "code",
   "execution_count": null,
   "id": "15d9aaf8",
   "metadata": {},
   "outputs": [],
   "source": []
  }
 ],
 "metadata": {
  "kernelspec": {
   "display_name": "Python 3",
   "language": "python",
   "name": "python3"
  },
  "language_info": {
   "codemirror_mode": {
    "name": "ipython",
    "version": 3
   },
   "file_extension": ".py",
   "mimetype": "text/x-python",
   "name": "python",
   "nbconvert_exporter": "python",
   "pygments_lexer": "ipython3",
   "version": "3.8.8"
  }
 },
 "nbformat": 4,
 "nbformat_minor": 5
}
