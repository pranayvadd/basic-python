{
 "cells": [
  {
   "cell_type": "code",
   "execution_count": 1,
   "id": "2b96e324",
   "metadata": {},
   "outputs": [
    {
     "name": "stdout",
     "output_type": "stream",
     "text": [
      "<class 'str'>\n",
      "<class 'str'>\n",
      "23\n"
     ]
    }
   ],
   "source": [
    "c = 'a'\n",
    "print(type(c))\n",
    "s = 'we are learning python!'\n",
    "print(type(s))\n",
    "print(len(s))"
   ]
  },
  {
   "cell_type": "code",
   "execution_count": 15,
   "id": "9bd2aced",
   "metadata": {},
   "outputs": [
    {
     "name": "stdout",
     "output_type": "stream",
     "text": [
      "i\n",
      "hi there\n",
      "hi 10\n"
     ]
    }
   ],
   "source": [
    "s = 'hi'\n",
    "print(s[1])\n",
    "#print(s[3])\n",
    "#print(s[1.0])\n",
    "print(s+' there')\n",
    "print(s, 10)"
   ]
  },
  {
   "cell_type": "code",
   "execution_count": 16,
   "id": "e6e9c1f0",
   "metadata": {},
   "outputs": [
    {
     "name": "stdout",
     "output_type": "stream",
     "text": [
      "  WE ARE LEARNING PYTHON!  ! \n",
      "  we are learning python!  ! \n",
      "We are learning Python!  !\n"
     ]
    }
   ],
   "source": [
    "s = '  We are learning Python!  ! '\n",
    "print(s.upper())\n",
    "print(s.lower())\n",
    "print(s.strip())"
   ]
  },
  {
   "cell_type": "code",
   "execution_count": 8,
   "id": "35abb75b",
   "metadata": {},
   "outputs": [
    {
     "name": "stdout",
     "output_type": "stream",
     "text": [
      "-1\n",
      "7\n",
      "['We', 'are', 'learning', 'Python!']\n",
      "<class 'list'>\n",
      "We are learning Python!\n",
      "<class 'str'>\n"
     ]
    }
   ],
   "source": [
    "s = 'We are leaning Python!'\n",
    "print(s.find('learning'))\n",
    "s = s.replace('leaning', 'learning')\n",
    "print(s.find('learning'))\n",
    "w = s.split(' ')\n",
    "print(w)\n",
    "print(type(w))\n",
    "x = ' '.join(w)\n",
    "print(x)\n",
    "print(type(x))"
   ]
  },
  {
   "cell_type": "code",
   "execution_count": 10,
   "id": "a586f5e8",
   "metadata": {},
   "outputs": [
    {
     "name": "stdout",
     "output_type": "stream",
     "text": [
      "!\n",
      "n\n"
     ]
    }
   ],
   "source": [
    "s = 'We are leaning Python!'\n",
    "print(s[-1])\n",
    "print(s[-10])"
   ]
  },
  {
   "cell_type": "code",
   "execution_count": 7,
   "id": "cb069757",
   "metadata": {},
   "outputs": [
    {
     "name": "stdout",
     "output_type": "stream",
     "text": [
      "h\n",
      "Cipherschnol\n",
      "Cpesho\n",
      "Chsn\n",
      "Ciphe\n",
      "rschnol\n",
      "rsch\n",
      "rc\n",
      "lonhcsrehpiC\n"
     ]
    }
   ],
   "source": [
    "s = 'Cipherschnol'\n",
    "print(s[-9])\n",
    "print(s[::1])\n",
    "print(s[::2])\n",
    "print(s[::3])\n",
    "print(s[:5])\n",
    "print(s[5:])\n",
    "print(s[-7:-3:1])\n",
    "print(s[-7:-3:2])\n",
    "print(s[::-1])"
   ]
  },
  {
   "cell_type": "code",
   "execution_count": 2,
   "id": "0c6e0919",
   "metadata": {},
   "outputs": [
    {
     "ename": "AttributeError",
     "evalue": "'int' object has no attribute 'isdigit'",
     "output_type": "error",
     "traceback": [
      "\u001b[0;31m---------------------------------------------------------------------------\u001b[0m",
      "\u001b[0;31mAttributeError\u001b[0m                            Traceback (most recent call last)",
      "\u001b[0;32m<ipython-input-2-1668915ec76d>\u001b[0m in \u001b[0;36m<module>\u001b[0;34m\u001b[0m\n\u001b[1;32m      1\u001b[0m \u001b[0ms\u001b[0m \u001b[0;34m=\u001b[0m \u001b[0;36m10\u001b[0m\u001b[0;34m\u001b[0m\u001b[0;34m\u001b[0m\u001b[0m\n\u001b[0;32m----> 2\u001b[0;31m \u001b[0my\u001b[0m \u001b[0;34m=\u001b[0m \u001b[0ms\u001b[0m\u001b[0;34m.\u001b[0m\u001b[0misdigit\u001b[0m\u001b[0;34m(\u001b[0m\u001b[0;34m)\u001b[0m\u001b[0;34m\u001b[0m\u001b[0;34m\u001b[0m\u001b[0m\n\u001b[0m\u001b[1;32m      3\u001b[0m \u001b[0mprint\u001b[0m\u001b[0;34m(\u001b[0m\u001b[0my\u001b[0m\u001b[0;34m)\u001b[0m\u001b[0;34m\u001b[0m\u001b[0;34m\u001b[0m\u001b[0m\n",
      "\u001b[0;31mAttributeError\u001b[0m: 'int' object has no attribute 'isdigit'"
     ]
    }
   ],
   "source": [
    "s = 10\n",
    "y = s.isdigit()\n",
    "print(y)"
   ]
  },
  {
   "cell_type": "code",
   "execution_count": null,
   "id": "e769b6ce",
   "metadata": {},
   "outputs": [],
   "source": []
  }
 ],
 "metadata": {
  "kernelspec": {
   "display_name": "Python 3",
   "language": "python",
   "name": "python3"
  },
  "language_info": {
   "codemirror_mode": {
    "name": "ipython",
    "version": 3
   },
   "file_extension": ".py",
   "mimetype": "text/x-python",
   "name": "python",
   "nbconvert_exporter": "python",
   "pygments_lexer": "ipython3",
   "version": "3.8.8"
  }
 },
 "nbformat": 4,
 "nbformat_minor": 5
}
