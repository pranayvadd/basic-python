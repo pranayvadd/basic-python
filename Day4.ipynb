{
 "cells": [
  {
   "cell_type": "code",
   "execution_count": 1,
   "id": "7bd7bcc6",
   "metadata": {},
   "outputs": [
    {
     "name": "stdout",
     "output_type": "stream",
     "text": [
      "<class 'list'>\n"
     ]
    }
   ],
   "source": [
    "l = []\n",
    "print(type(l))"
   ]
  },
  {
   "cell_type": "code",
   "execution_count": 2,
   "id": "132f2650",
   "metadata": {},
   "outputs": [
    {
     "name": "stdout",
     "output_type": "stream",
     "text": [
      "['shark', 'cuttlefish', 'squid', 'mantisshrimp', 'anemone']\n",
      "<class 'list'>\n",
      "5\n"
     ]
    }
   ],
   "source": [
    "sea_creatures = ['shark', 'cuttlefish', 'squid', 'mantisshrimp', 'anemone']\n",
    "\n",
    "print(sea_creatures)\n",
    "\n",
    "print(type(sea_creatures))\n",
    "\n",
    "print(len(sea_creatures))"
   ]
  },
  {
   "cell_type": "code",
   "execution_count": 3,
   "id": "41886bf2",
   "metadata": {},
   "outputs": [
    {
     "name": "stdout",
     "output_type": "stream",
     "text": [
      "shark\n",
      "cuttlefish\n",
      "squid\n",
      "mantisshrimp\n",
      "anemone\n",
      "********************\n",
      "anemone\n",
      "mantisshrimp\n",
      "squid\n",
      "cuttlefish\n"
     ]
    }
   ],
   "source": [
    "sea_creatures = ['shark', 'cuttlefish', 'squid', 'mantisshrimp', 'anemone']\n",
    "\n",
    "print(sea_creatures[0])\n",
    "\n",
    "print(sea_creatures[1])\n",
    "\n",
    "print(sea_creatures[2])\n",
    "\n",
    "print(sea_creatures[3])\n",
    "\n",
    "print(sea_creatures[4])\n",
    "\n",
    "#print(sea_creatures[5])\n",
    "\n",
    "print('*'*20)\n",
    "\n",
    "print(sea_creatures[-1])\n",
    "\n",
    "print(sea_creatures[-2])\n",
    "\n",
    "print(sea_creatures[-3])\n",
    "\n",
    "print(sea_creatures[-4])"
   ]
  },
  {
   "cell_type": "code",
   "execution_count": 5,
   "id": "b694ca9c",
   "metadata": {},
   "outputs": [
    {
     "name": "stdout",
     "output_type": "stream",
     "text": [
      "[10, 'Hi', 20.2, True]\n"
     ]
    }
   ],
   "source": [
    "l =[]\n",
    "l.append(10)\n",
    "l.append('Hi')\n",
    "l.append(20.2)\n",
    "l.append(True)\n",
    "print(l)"
   ]
  },
  {
   "cell_type": "code",
   "execution_count": 14,
   "id": "6b34dcee",
   "metadata": {},
   "outputs": [
    {
     "name": "stdout",
     "output_type": "stream",
     "text": [
      "a\n",
      "5\n",
      "['Happy', [2, 0, 1, 6]]\n"
     ]
    }
   ],
   "source": [
    "nest_list = ['Happy', [2, 0, 1, 5]]\n",
    "\n",
    "print(nest_list[0][-4])\n",
    "\n",
    "#nest_list[0][-4] = 'd'\n",
    "\n",
    "#print(nest_list)\n",
    "\n",
    "print(nest_list[1][-1])\n",
    "\n",
    "nest_list[1][-1] = 6\n",
    "\n",
    "print(nest_list)"
   ]
  },
  {
   "cell_type": "code",
   "execution_count": 20,
   "id": "98843520",
   "metadata": {},
   "outputs": [
    {
     "name": "stdout",
     "output_type": "stream",
     "text": [
      "[[1, 2, 3], 'cuttlefish', 'squid', 'mantisshrimp', 'anemone']\n",
      "3\n",
      "[[1, 2, 2], 'cuttlefish', 'squid', 'mantisshrimp', 'anemone']\n",
      "t\n"
     ]
    },
    {
     "ename": "TypeError",
     "evalue": "'str' object does not support item assignment",
     "output_type": "error",
     "traceback": [
      "\u001b[0;31m---------------------------------------------------------------------------\u001b[0m",
      "\u001b[0;31mTypeError\u001b[0m                                 Traceback (most recent call last)",
      "\u001b[0;32m<ipython-input-20-d41c40b94252>\u001b[0m in \u001b[0;36m<module>\u001b[0;34m\u001b[0m\n\u001b[1;32m     19\u001b[0m \u001b[0mprint\u001b[0m\u001b[0;34m(\u001b[0m\u001b[0msea_creatures\u001b[0m\u001b[0;34m[\u001b[0m\u001b[0;36m1\u001b[0m\u001b[0;34m]\u001b[0m\u001b[0;34m[\u001b[0m\u001b[0;36m2\u001b[0m\u001b[0;34m]\u001b[0m\u001b[0;34m)\u001b[0m\u001b[0;34m\u001b[0m\u001b[0;34m\u001b[0m\u001b[0m\n\u001b[1;32m     20\u001b[0m \u001b[0;34m\u001b[0m\u001b[0m\n\u001b[0;32m---> 21\u001b[0;31m \u001b[0msea_creatures\u001b[0m\u001b[0;34m[\u001b[0m\u001b[0;36m1\u001b[0m\u001b[0;34m]\u001b[0m\u001b[0;34m[\u001b[0m\u001b[0;36m2\u001b[0m\u001b[0;34m]\u001b[0m \u001b[0;34m=\u001b[0m \u001b[0;34m'd'\u001b[0m\u001b[0;34m\u001b[0m\u001b[0;34m\u001b[0m\u001b[0m\n\u001b[0m\u001b[1;32m     22\u001b[0m \u001b[0;34m\u001b[0m\u001b[0m\n\u001b[1;32m     23\u001b[0m \u001b[0mprint\u001b[0m\u001b[0;34m(\u001b[0m\u001b[0msea_creatures\u001b[0m\u001b[0;34m)\u001b[0m\u001b[0;34m\u001b[0m\u001b[0;34m\u001b[0m\u001b[0m\n",
      "\u001b[0;31mTypeError\u001b[0m: 'str' object does not support item assignment"
     ]
    }
   ],
   "source": [
    "\n",
    "sea_creatures = [[1,2,3], 'cuttlefish', 'squid', 'mantisshrimp', 'anemone']\n",
    "\n",
    "#print(sea_creatures)\n",
    "\n",
    "#sea_creatures[1] = 'octopus'\n",
    "\n",
    "#print(sea_creatures)\n",
    "\n",
    "#sea_creatures[-3] = 'blobfish'\n",
    "\n",
    "print(sea_creatures)\n",
    "\n",
    "print(sea_creatures[0][2])\n",
    "\n",
    "sea_creatures[0][2] = 2\n",
    "\n",
    "print(sea_creatures)\n",
    "\n",
    "print(sea_creatures[1][2])\n",
    "\n",
    "sea_creatures[1][2] = 'd'\n",
    "\n",
    "print(sea_creatures)"
   ]
  },
  {
   "cell_type": "code",
   "execution_count": 27,
   "id": "29deb160",
   "metadata": {},
   "outputs": [
    {
     "name": "stdout",
     "output_type": "stream",
     "text": [
      "['C', 'i', 'p', 'h', 'e']\n",
      "['e', 'r', 'S', 'c', 'h', 'o', 'o', 'l', 's']\n",
      "['e', 'r', 'S', 'c', 'h', 'o', 'o']\n",
      "['C', 'i', 'p', 'h', 'e', 'r', 'S', 'c']\n",
      "['o', 'o']\n"
     ]
    }
   ],
   "source": [
    "my_list = ['C', 'i', 'p', 'h', 'e', 'r', 'S', 'c', 'h', 'o', 'o', 'l', 's']\n",
    "\n",
    "print(my_list[:5])\n",
    "\n",
    "print(my_list[4:])\n",
    "\n",
    "print(my_list[4:-2])\n",
    "\n",
    "print(my_list[:-5])\n",
    "\n",
    "print(my_list[-4:-2])"
   ]
  },
  {
   "cell_type": "code",
   "execution_count": 37,
   "id": "0087f237",
   "metadata": {},
   "outputs": [
    {
     "name": "stdout",
     "output_type": "stream",
     "text": [
      "List before sorting: [3, 1, 2, 8, 5, 4]\n",
      "List after sorting: [1, 2, 3, 4, 5, 8]\n",
      "[-2, 1, 2, 3, 4, 5, 8]\n",
      "1\n",
      "[-2, 2, 3, 4, 5, 8, 16]\n"
     ]
    }
   ],
   "source": [
    "l = [3, 1, 2, 8, 5, 4]\n",
    "\n",
    "print(\"List before sorting:\", l)\n",
    "\n",
    "l.sort()\n",
    "\n",
    "print(\"List after sorting:\", l)\n",
    "\n",
    "l.append(-2)\n",
    "\n",
    "l.sort()\n",
    "\n",
    "print(l)\n",
    "\n",
    "print(l[1])\n",
    "\n",
    "l[1] = 16\n",
    "\n",
    "l.sort()\n",
    "\n",
    "print(l)\n",
    "\n"
   ]
  },
  {
   "cell_type": "code",
   "execution_count": 18,
   "id": "3f5eb97a",
   "metadata": {},
   "outputs": [
    {
     "name": "stdout",
     "output_type": "stream",
     "text": [
      "[3, 1, 2, 8, 5, 4, -2]\n",
      "[3, 16, 1, 2, 8, 5, 4, -2]\n",
      "[3, 16, 1, 2, 8, 5, 4, -2, -1, -2, -3, -4]\n",
      "1\n",
      "4\n",
      "[3, 16, 1, 2, 8, 5, 4, -1, -2, -3, -4]\n",
      "[-4, -3, -2, -1, 1, 2, 3, 4, 5, 8, 16]\n",
      "[16, 8, 5, 4, 3, 2, 1, -1, -2, -3, -4]\n",
      "5\n",
      "[16, 8, 4, 3, 2, 1, -1, -2, -3, -2, -4]\n",
      "2\n"
     ]
    }
   ],
   "source": [
    "l = [3, 1, 2, 8, 5, 4]\n",
    "l1 = [-1, -2, -3, -4]\n",
    "l.append(-2)\n",
    "print(l)\n",
    "\n",
    "l.insert(1,16)\n",
    "print(l)\n",
    "\n",
    "l.extend(l1)\n",
    "print(l)\n",
    "\n",
    "print(l.index(16)) # find the element position\n",
    "\n",
    "print(l.index(8,1))\n",
    "\n",
    "l.remove(-2)\n",
    "\n",
    "print(l)\n",
    "\n",
    "l.sort()\n",
    "print(l)\n",
    "\n",
    "l.reverse()\n",
    "print(l)\n",
    "\n",
    "print(l.pop(2)) # find the position's element\n",
    "\n",
    "l.insert(-1,-2)\n",
    "\n",
    "print(l)\n",
    "print(l.count(-2))"
   ]
  },
  {
   "cell_type": "code",
   "execution_count": null,
   "id": "c931c975",
   "metadata": {},
   "outputs": [],
   "source": []
  }
 ],
 "metadata": {
  "kernelspec": {
   "display_name": "Python 3",
   "language": "python",
   "name": "python3"
  },
  "language_info": {
   "codemirror_mode": {
    "name": "ipython",
    "version": 3
   },
   "file_extension": ".py",
   "mimetype": "text/x-python",
   "name": "python",
   "nbconvert_exporter": "python",
   "pygments_lexer": "ipython3",
   "version": "3.8.8"
  }
 },
 "nbformat": 4,
 "nbformat_minor": 5
}
