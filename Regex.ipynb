{
 "cells": [
  {
   "cell_type": "code",
   "execution_count": 18,
   "id": "61da7be6",
   "metadata": {},
   "outputs": [
    {
     "name": "stdout",
     "output_type": "stream",
     "text": [
      "['pranay.vaddepalli@gmail.com', 'abc.def@xyz.in']\n"
     ]
    }
   ],
   "source": [
    "import re\n",
    "\n",
    "doc = \"\"\" \n",
    "tfa TechnologyForAll 123\n",
    "435435234\n",
    " TFA 9491128026\n",
    "pranay.vaddepalli@gmail.com\n",
    "abc.def@xyz.in\n",
    "\"\"\"\n",
    "regex = '\\w.+@[a-zA-Z]+[.][a-zA-Z]+'\n",
    "\n",
    "lst = re.findall(regex, doc)\n",
    "\n",
    "print(lst)"
   ]
  },
  {
   "cell_type": "code",
   "execution_count": null,
   "id": "eebfddae",
   "metadata": {},
   "outputs": [],
   "source": []
  },
  {
   "cell_type": "code",
   "execution_count": null,
   "id": "c7ce0351",
   "metadata": {},
   "outputs": [],
   "source": []
  }
 ],
 "metadata": {
  "kernelspec": {
   "display_name": "Python 3",
   "language": "python",
   "name": "python3"
  },
  "language_info": {
   "codemirror_mode": {
    "name": "ipython",
    "version": 3
   },
   "file_extension": ".py",
   "mimetype": "text/x-python",
   "name": "python",
   "nbconvert_exporter": "python",
   "pygments_lexer": "ipython3",
   "version": "3.8.8"
  }
 },
 "nbformat": 4,
 "nbformat_minor": 5
}
