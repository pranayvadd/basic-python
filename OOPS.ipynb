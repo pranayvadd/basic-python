{
 "cells": [
  {
   "cell_type": "code",
   "execution_count": 3,
   "id": "5f5fd551",
   "metadata": {},
   "outputs": [],
   "source": [
    "class Human:\n",
    "    def __init__(self, n, g): # constructor --> to initialize the object; self is mandatory ; costruct an object\n",
    "        self.name   = n\n",
    "        self.gender = g\n",
    "        \n",
    "    def display(self):\n",
    "        print(\"Name = {}, Gender = {}\".format(self.name, self.gender))"
   ]
  },
  {
   "cell_type": "code",
   "execution_count": 4,
   "id": "3fe70bcd",
   "metadata": {},
   "outputs": [],
   "source": [
    "kanav = Human('Kanav Bansal', 'male')  # --> Kanav is object  and Human is class"
   ]
  },
  {
   "cell_type": "code",
   "execution_count": 5,
   "id": "941da41e",
   "metadata": {},
   "outputs": [
    {
     "name": "stdout",
     "output_type": "stream",
     "text": [
      "Name = Kanav Bansal, Gender = male\n"
     ]
    }
   ],
   "source": [
    "kanav.display()"
   ]
  },
  {
   "cell_type": "code",
   "execution_count": 8,
   "id": "49a206a6",
   "metadata": {},
   "outputs": [
    {
     "name": "stdout",
     "output_type": "stream",
     "text": [
      "Name = Deepti, Gender = Female\n"
     ]
    }
   ],
   "source": [
    "deepthi = Human('Deepti', 'Female')\n",
    "\n",
    "deepthi.display()"
   ]
  },
  {
   "cell_type": "code",
   "execution_count": null,
   "id": "15f3ba50",
   "metadata": {},
   "outputs": [],
   "source": []
  },
  {
   "cell_type": "code",
   "execution_count": 150,
   "id": "4e69678c",
   "metadata": {},
   "outputs": [],
   "source": [
    "class BankAccount:\n",
    "    def __init__(self, num, ifsc, name, bal):\n",
    "        self.acct_number = num\n",
    "        self.ifsc        = ifsc\n",
    "        self.name        = name\n",
    "        self.__balance   = bal   # __ will protect the field\n",
    "    \n",
    "    def display(self):\n",
    "        print(\"Account Number : \", self.acct_number)\n",
    "        print(\"IFSC    : \", self.ifsc)\n",
    "        print(\"NAME    : \", self.name)\n",
    "        print(\"BALANCE : \", self.__balance)\n",
    "        \n",
    "    def deposit(self, amount):\n",
    "        if amount >= 0:\n",
    "            self.__balance += amount\n",
    "        else:\n",
    "            print('enter the valid amount')\n",
    "            \n",
    "    def withdraw(self, amount):\n",
    "        if amount <= self.__balance:\n",
    "            print(\"Withdrawl of {} is successful\".format(amount))\n",
    "            self.__balance -= amount\n",
    "        else:\n",
    "            print('Insufficient balance')"
   ]
  },
  {
   "cell_type": "code",
   "execution_count": 151,
   "id": "fcf3482e",
   "metadata": {},
   "outputs": [],
   "source": [
    "b1 = BankAccount(12345, \"SBIN0000\", \"Pranay\", 10000)\n",
    "b2 = BankAccount(67890, \"SBIC0000\", \"Kartheek\", 6586)"
   ]
  },
  {
   "cell_type": "code",
   "execution_count": 152,
   "id": "0977c059",
   "metadata": {},
   "outputs": [
    {
     "name": "stdout",
     "output_type": "stream",
     "text": [
      "Account Number :  12345\n",
      "IFSC    :  SBIN0000\n",
      "NAME    :  Pranay\n",
      "BALANCE :  10000\n"
     ]
    }
   ],
   "source": [
    "b1.display()"
   ]
  },
  {
   "cell_type": "code",
   "execution_count": 153,
   "id": "8d40faa9",
   "metadata": {},
   "outputs": [
    {
     "name": "stdout",
     "output_type": "stream",
     "text": [
      "Account Number :  67890\n",
      "IFSC    :  SBIC0000\n",
      "NAME    :  Kartheek\n",
      "BALANCE :  6586\n"
     ]
    }
   ],
   "source": [
    "b2.display()"
   ]
  },
  {
   "cell_type": "code",
   "execution_count": 154,
   "id": "0311a3a4",
   "metadata": {},
   "outputs": [],
   "source": [
    "b1.deposit(500)"
   ]
  },
  {
   "cell_type": "code",
   "execution_count": 155,
   "id": "f246ea49",
   "metadata": {},
   "outputs": [
    {
     "name": "stdout",
     "output_type": "stream",
     "text": [
      "Account Number :  12345\n",
      "IFSC    :  SBIN0000\n",
      "NAME    :  Pranay\n",
      "BALANCE :  10500\n"
     ]
    }
   ],
   "source": [
    "b1.display()"
   ]
  },
  {
   "cell_type": "code",
   "execution_count": 156,
   "id": "b833b3b1",
   "metadata": {},
   "outputs": [
    {
     "name": "stdout",
     "output_type": "stream",
     "text": [
      "enter the valid amount\n"
     ]
    }
   ],
   "source": [
    "b1.deposit(-10)"
   ]
  },
  {
   "cell_type": "code",
   "execution_count": 157,
   "id": "738a0c83",
   "metadata": {},
   "outputs": [
    {
     "name": "stdout",
     "output_type": "stream",
     "text": [
      "Account Number :  12345\n",
      "IFSC    :  SBIN0000\n",
      "NAME    :  Pranay\n",
      "BALANCE :  10500\n"
     ]
    }
   ],
   "source": [
    "b1.display()"
   ]
  },
  {
   "cell_type": "code",
   "execution_count": 158,
   "id": "5d9bcc15",
   "metadata": {},
   "outputs": [
    {
     "name": "stdout",
     "output_type": "stream",
     "text": [
      "Withdrawl of 600 is successful\n"
     ]
    }
   ],
   "source": [
    "b1.withdraw(600)"
   ]
  },
  {
   "cell_type": "code",
   "execution_count": 159,
   "id": "fe4c2ca6",
   "metadata": {},
   "outputs": [
    {
     "name": "stdout",
     "output_type": "stream",
     "text": [
      "Account Number :  12345\n",
      "IFSC    :  SBIN0000\n",
      "NAME    :  Pranay\n",
      "BALANCE :  9900\n"
     ]
    }
   ],
   "source": [
    "b1.display()"
   ]
  },
  {
   "cell_type": "code",
   "execution_count": 160,
   "id": "64215cd6",
   "metadata": {},
   "outputs": [
    {
     "name": "stdout",
     "output_type": "stream",
     "text": [
      "Insufficient balance\n"
     ]
    }
   ],
   "source": [
    "b1.withdraw(10000)"
   ]
  },
  {
   "cell_type": "code",
   "execution_count": 161,
   "id": "058542df",
   "metadata": {},
   "outputs": [
    {
     "name": "stdout",
     "output_type": "stream",
     "text": [
      "Account Number :  2222\n",
      "IFSC    :  HDFC0000\n",
      "NAME    :  Krishna\n",
      "BALANCE :  25000\n"
     ]
    }
   ],
   "source": [
    "b3 = BankAccount(2222, 'HDFC0000',\"Krishna\", 25000)\n",
    "b3.display()"
   ]
  },
  {
   "cell_type": "code",
   "execution_count": 162,
   "id": "467d5a09",
   "metadata": {},
   "outputs": [
    {
     "name": "stdout",
     "output_type": "stream",
     "text": [
      "Krishna\n"
     ]
    }
   ],
   "source": [
    "print(b3.name)"
   ]
  },
  {
   "cell_type": "code",
   "execution_count": 163,
   "id": "4899b4a7",
   "metadata": {},
   "outputs": [
    {
     "name": "stdout",
     "output_type": "stream",
     "text": [
      "Account Number :  2222\n",
      "IFSC    :  HDFC0000\n",
      "NAME    :  Chandra\n",
      "BALANCE :  25000\n"
     ]
    }
   ],
   "source": [
    "b3.name = 'Chandra'\n",
    "b3.display()"
   ]
  },
  {
   "cell_type": "code",
   "execution_count": 164,
   "id": "e8b4d716",
   "metadata": {},
   "outputs": [
    {
     "name": "stdout",
     "output_type": "stream",
     "text": [
      "Account Number :  2222\n",
      "IFSC    :  HDFC0000\n",
      "NAME    :  Chandra\n",
      "BALANCE :  25000\n"
     ]
    }
   ],
   "source": [
    "b3.__balance = 1000000\n",
    "b3.display()"
   ]
  },
  {
   "cell_type": "code",
   "execution_count": 165,
   "id": "cab4843a",
   "metadata": {},
   "outputs": [
    {
     "name": "stdout",
     "output_type": "stream",
     "text": [
      "Withdrawl of 500 is successful\n"
     ]
    }
   ],
   "source": [
    "b3.withdraw(500)"
   ]
  },
  {
   "cell_type": "code",
   "execution_count": 166,
   "id": "ef18917e",
   "metadata": {},
   "outputs": [
    {
     "name": "stdout",
     "output_type": "stream",
     "text": [
      "Account Number :  2222\n",
      "IFSC    :  HDFC0000\n",
      "NAME    :  Chandra\n",
      "BALANCE :  24500\n"
     ]
    }
   ],
   "source": [
    "b3.display()"
   ]
  },
  {
   "cell_type": "code",
   "execution_count": 170,
   "id": "6eacacfa",
   "metadata": {},
   "outputs": [
    {
     "name": "stdout",
     "output_type": "stream",
     "text": [
      "This module provides access to the mathematical functions\n",
      "defined by the C standard.\n"
     ]
    }
   ],
   "source": [
    "import math\n",
    "\n",
    "#dir(math)\n",
    "\n",
    "print(math.__doc__)"
   ]
  },
  {
   "cell_type": "code",
   "execution_count": 172,
   "id": "e5a068ff",
   "metadata": {},
   "outputs": [
    {
     "name": "stdout",
     "output_type": "stream",
     "text": [
      "__main__\n"
     ]
    }
   ],
   "source": [
    "print(__name__)"
   ]
  },
  {
   "cell_type": "code",
   "execution_count": 174,
   "id": "b7c5d37f",
   "metadata": {},
   "outputs": [
    {
     "name": "stdout",
     "output_type": "stream",
     "text": [
      "math\n",
      "random\n",
      "datetime\n",
      "__main__\n"
     ]
    }
   ],
   "source": [
    "import math as m\n",
    "import random as r\n",
    "import datetime as dt\n",
    "\n",
    "print(m.__name__)\n",
    "print(r.__name__)\n",
    "print(dt.__name__)\n",
    "\n",
    "print(__name__)"
   ]
  },
  {
   "cell_type": "code",
   "execution_count": null,
   "id": "e833fd2a",
   "metadata": {},
   "outputs": [],
   "source": []
  }
 ],
 "metadata": {
  "kernelspec": {
   "display_name": "Python 3",
   "language": "python",
   "name": "python3"
  },
  "language_info": {
   "codemirror_mode": {
    "name": "ipython",
    "version": 3
   },
   "file_extension": ".py",
   "mimetype": "text/x-python",
   "name": "python",
   "nbconvert_exporter": "python",
   "pygments_lexer": "ipython3",
   "version": "3.8.8"
  }
 },
 "nbformat": 4,
 "nbformat_minor": 5
}
