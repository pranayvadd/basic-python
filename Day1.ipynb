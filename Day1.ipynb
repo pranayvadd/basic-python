{
 "cells": [
  {
   "cell_type": "code",
   "execution_count": 4,
   "id": "85736ad8",
   "metadata": {},
   "outputs": [
    {
     "name": "stdout",
     "output_type": "stream",
     "text": [
      "['False', 'None', 'True', 'and', 'as', 'assert', 'async', 'await', 'break', 'class', 'continue', 'def', 'del', 'elif', 'else', 'except', 'finally', 'for', 'from', 'global', 'if', 'import', 'in', 'is', 'lambda', 'nonlocal', 'not', 'or', 'pass', 'raise', 'return', 'try', 'while', 'with', 'yield']\n",
      "35\n"
     ]
    }
   ],
   "source": [
    "import keyword\n",
    "print(keyword.kwlist)\n",
    "print(len(keyword.kwlist))"
   ]
  },
  {
   "cell_type": "code",
   "execution_count": 10,
   "id": "2192de89",
   "metadata": {},
   "outputs": [
    {
     "name": "stdout",
     "output_type": "stream",
     "text": [
      "5\n",
      "5.0\n",
      "(10+20j)\n",
      "1.5e+34\n",
      "string\n",
      "True\n",
      "<class 'int'>\n",
      "<class 'float'>\n",
      "<class 'float'>\n",
      "<class 'float'>\n",
      "<class 'str'>\n",
      "<class 'bool'>\n"
     ]
    }
   ],
   "source": [
    "a = 5\n",
    "\n",
    "b = 5.0\n",
    "\n",
    "c = 10 + 20j\n",
    "\n",
    "d = 1.5e34\n",
    "\n",
    "e = 'string'\n",
    "\n",
    "f = True\n",
    "\n",
    "print(a)\n",
    "\n",
    "print(b)\n",
    "\n",
    "print(c)\n",
    "\n",
    "print(d)\n",
    "\n",
    "print(e)\n",
    "\n",
    "print(f)\n",
    "\n",
    "\n",
    "print(type(a))\n",
    "\n",
    "print(type(b))\n",
    "\n",
    "print(type(b))\n",
    "\n",
    "print(type(d))\n",
    "\n",
    "print(type(e))\n",
    "\n",
    "print(type(f))"
   ]
  },
  {
   "cell_type": "code",
   "execution_count": 9,
   "id": "6f59fe17",
   "metadata": {},
   "outputs": [
    {
     "name": "stdout",
     "output_type": "stream",
     "text": [
      "<class 'complex'>\n",
      "(15+20j)\n",
      "True\n",
      "10.0\n",
      "20.0\n"
     ]
    }
   ],
   "source": [
    "c = 10 + 20j\n",
    "\n",
    "print(type(c))\n",
    "\n",
    "print(c+5)\n",
    "\n",
    "print(isinstance(c,complex))\n",
    "\n",
    "print(c.real)\n",
    "\n",
    "print(c.imag)"
   ]
  },
  {
   "cell_type": "code",
   "execution_count": null,
   "id": "c84470ca",
   "metadata": {},
   "outputs": [],
   "source": [
    "# comment\n",
    "\n",
    "'''\n",
    "mutliple line comment-1\n",
    "'''\n",
    "\n",
    "'''\n",
    "multiple line comment-2\n",
    "'''\n",
    "\n",
    "'''\n",
    "mutliple line comment-3\n",
    "'''\n"
   ]
  },
  {
   "cell_type": "code",
   "execution_count": null,
   "id": "a8843ae0",
   "metadata": {},
   "outputs": [],
   "source": [
    "# python"
   ]
  }
 ],
 "metadata": {
  "kernelspec": {
   "display_name": "Python 3",
   "language": "python",
   "name": "python3"
  },
  "language_info": {
   "codemirror_mode": {
    "name": "ipython",
    "version": 3
   },
   "file_extension": ".py",
   "mimetype": "text/x-python",
   "name": "python",
   "nbconvert_exporter": "python",
   "pygments_lexer": "ipython3",
   "version": "3.8.8"
  }
 },
 "nbformat": 4,
 "nbformat_minor": 5
}
