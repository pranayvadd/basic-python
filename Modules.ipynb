{
 "cells": [
  {
   "cell_type": "code",
   "execution_count": 1,
   "id": "17747202",
   "metadata": {},
   "outputs": [
    {
     "name": "stdout",
     "output_type": "stream",
     "text": [
      "3.141592653589793\n",
      "2.718281828459045\n"
     ]
    }
   ],
   "source": [
    "import math\n",
    "print(math.pi)\n",
    "print(math.e)"
   ]
  },
  {
   "cell_type": "code",
   "execution_count": 2,
   "id": "50a28a89",
   "metadata": {},
   "outputs": [
    {
     "name": "stdout",
     "output_type": "stream",
     "text": [
      "120\n"
     ]
    }
   ],
   "source": [
    "import math\n",
    "print(math.factorial(5))"
   ]
  },
  {
   "cell_type": "code",
   "execution_count": 3,
   "id": "0e0a7178",
   "metadata": {},
   "outputs": [],
   "source": [
    "#import math\n",
    "#dir(math)"
   ]
  },
  {
   "cell_type": "code",
   "execution_count": 5,
   "id": "4b5e84ef",
   "metadata": {},
   "outputs": [],
   "source": [
    "#help(math)"
   ]
  },
  {
   "cell_type": "code",
   "execution_count": 6,
   "id": "d0ecdeed",
   "metadata": {},
   "outputs": [
    {
     "name": "stdout",
     "output_type": "stream",
     "text": [
      "3.141592653589793\n",
      "2.718281828459045\n"
     ]
    }
   ],
   "source": [
    "import math as m\n",
    "\n",
    "print(m.pi)\n",
    "print(m.e)"
   ]
  },
  {
   "cell_type": "code",
   "execution_count": 9,
   "id": "124db51f",
   "metadata": {},
   "outputs": [
    {
     "name": "stdout",
     "output_type": "stream",
     "text": [
      "720\n"
     ]
    }
   ],
   "source": [
    "from math import factorial as f\n",
    "\n",
    "print(f(6))"
   ]
  },
  {
   "cell_type": "code",
   "execution_count": 17,
   "id": "47c3b9b7",
   "metadata": {},
   "outputs": [
    {
     "name": "stdout",
     "output_type": "stream",
     "text": [
      "0.8661748785600165\n"
     ]
    }
   ],
   "source": [
    "from random import *\n",
    "\n",
    "print(random())\n",
    "\n",
    "# 0 and 1 (not inclusive)"
   ]
  },
  {
   "cell_type": "code",
   "execution_count": 18,
   "id": "d9a93c4a",
   "metadata": {},
   "outputs": [
    {
     "name": "stdout",
     "output_type": "stream",
     "text": [
      "7\n"
     ]
    }
   ],
   "source": [
    "print(randint(1,10))\n",
    "\n",
    "# 1 and 10 (inclusive)"
   ]
  },
  {
   "cell_type": "code",
   "execution_count": 19,
   "id": "14b99736",
   "metadata": {},
   "outputs": [
    {
     "name": "stdout",
     "output_type": "stream",
     "text": [
      "4.252795021560798\n"
     ]
    }
   ],
   "source": [
    "print(uniform(1,10))\n",
    "\n",
    "# float between 1 and 10 (not inclusive)"
   ]
  },
  {
   "cell_type": "code",
   "execution_count": 20,
   "id": "11967607",
   "metadata": {},
   "outputs": [
    {
     "name": "stdout",
     "output_type": "stream",
     "text": [
      "e\n"
     ]
    }
   ],
   "source": [
    "lst = ['a', 'b', 'c', 'd', 'e', 'f', 'g', 'h']\n",
    "\n",
    "print(choice(lst))\n",
    "\n",
    "# return a random item from a list or tuple"
   ]
  },
  {
   "cell_type": "code",
   "execution_count": 30,
   "id": "e39c467e",
   "metadata": {},
   "outputs": [
    {
     "name": "stdout",
     "output_type": "stream",
     "text": [
      "4\n"
     ]
    }
   ],
   "source": [
    "print(randint(1,6))\n"
   ]
  },
  {
   "cell_type": "code",
   "execution_count": 51,
   "id": "f234a3e0",
   "metadata": {},
   "outputs": [
    {
     "name": "stdout",
     "output_type": "stream",
     "text": [
      "6422\n"
     ]
    }
   ],
   "source": [
    "# Generate 4 digit code\n",
    "'''\n",
    "This is not correct as we can't validate\n",
    "otp=''\n",
    "for i in range(6):\n",
    "    otp = randint(0,9)\n",
    "    print(otp,end='')\n",
    "'''\n",
    "\n",
    "otp = randint(0,9999)\n",
    "\n",
    "if (otp < 1000):\n",
    "    if (otp >= 100):\n",
    "        otp = '0' + str(otp)\n",
    "    elif (otp >= 10):\n",
    "        otp = '00' + str(otp)\n",
    "    else:\n",
    "        otp = '000' + str(otp)\n",
    "\n",
    "print(otp)"
   ]
  },
  {
   "cell_type": "code",
   "execution_count": 52,
   "id": "776e8431",
   "metadata": {},
   "outputs": [
    {
     "name": "stdout",
     "output_type": "stream",
     "text": [
      "enter the otp to confirm the txn 6422\n",
      "6422\n",
      "Transaction successful\n"
     ]
    }
   ],
   "source": [
    "# to confirm otp\n",
    "\n",
    "user_otp = int(input('enter the otp to confirm the txn '))\n",
    "\n",
    "print(otp)\n",
    "\n",
    "if ( otp == user_otp):\n",
    "    print('Transaction successful')\n",
    "else:\n",
    "    print('otp is incorrect')"
   ]
  },
  {
   "cell_type": "code",
   "execution_count": null,
   "id": "2a9e1fd6",
   "metadata": {},
   "outputs": [],
   "source": []
  }
 ],
 "metadata": {
  "kernelspec": {
   "display_name": "Python 3",
   "language": "python",
   "name": "python3"
  },
  "language_info": {
   "codemirror_mode": {
    "name": "ipython",
    "version": 3
   },
   "file_extension": ".py",
   "mimetype": "text/x-python",
   "name": "python",
   "nbconvert_exporter": "python",
   "pygments_lexer": "ipython3",
   "version": "3.8.8"
  }
 },
 "nbformat": 4,
 "nbformat_minor": 5
}
